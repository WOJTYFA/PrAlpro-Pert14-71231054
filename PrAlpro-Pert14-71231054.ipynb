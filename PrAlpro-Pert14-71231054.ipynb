{
 "cells": [
  {
   "cell_type": "code",
   "execution_count": 8,
   "metadata": {},
   "outputs": [],
   "source": [
    "#latihan 13.1\n",
    "def bilangan_prima(n, i=2):\n",
    "    if n < 2:\n",
    "        return False\n",
    "    if n == 2:\n",
    "        return False\n",
    "    if i * i <= n:\n",
    "        return bilangan_prima(n, i + 1)\n",
    "    return True\n"
   ]
  },
  {
   "cell_type": "code",
   "execution_count": 9,
   "metadata": {},
   "outputs": [],
   "source": [
    "#latihan 13.2\n",
    "def ini_palindrom(kata):\n",
    "    cleaned_kata = ''.join(char.lower() for char in kata if char.isalnum())\n",
    "\n",
    "    def cek_palindrom(cleaned_kata, kiri, kanan):\n",
    "        if kiri >= kanan:\n",
    "            return True\n",
    "        if cleaned_kata[kiri] != cleaned_kata[kanan]:\n",
    "            return False\n",
    "        return cek_palindrom(cleaned_kata, kiri+1, kanan-1)\n",
    "    return cek_palindrom(cleaned_kata, 0, len(cleaned_kata)-1)\n"
   ]
  },
  {
   "cell_type": "code",
   "execution_count": 11,
   "metadata": {},
   "outputs": [],
   "source": [
    "#latihan 13.3\n",
    "def jumlah_deret(n):\n",
    "    if n < 1:\n",
    "        return 0\n",
    "    if n % 2 !=0:\n",
    "        return n + jumlah_deret(n-2)\n",
    "    else:\n",
    "        return jumlah_deret(n-1)"
   ]
  },
  {
   "cell_type": "code",
   "execution_count": 12,
   "metadata": {},
   "outputs": [],
   "source": [
    "#latihan 13.4\n",
    "def itung_digit(m):\n",
    "    if m < 10:\n",
    "        return m\n",
    "    else:\n",
    "        return m % 10 + itung_digit(m // 10)"
   ]
  },
  {
   "cell_type": "code",
   "execution_count": 13,
   "metadata": {},
   "outputs": [],
   "source": [
    "#latihan 13.5\n",
    "def kombinasi(n, k):\n",
    "    if k == 0 or k == n:\n",
    "        return 1\n",
    "    return kombinasi(n-1, k-1) + kombinasi(n-1, k)"
   ]
  }
 ],
 "metadata": {
  "kernelspec": {
   "display_name": "Python 3",
   "language": "python",
   "name": "python3"
  },
  "language_info": {
   "codemirror_mode": {
    "name": "ipython",
    "version": 3
   },
   "file_extension": ".py",
   "mimetype": "text/x-python",
   "name": "python",
   "nbconvert_exporter": "python",
   "pygments_lexer": "ipython3",
   "version": "3.12.0"
  }
 },
 "nbformat": 4,
 "nbformat_minor": 2
}
